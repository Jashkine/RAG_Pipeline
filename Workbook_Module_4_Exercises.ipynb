{
  "nbformat": 4,
  "nbformat_minor": 0,
  "metadata": {
    "colab": {
      "provenance": [],
      "include_colab_link": true
    },
    "kernelspec": {
      "name": "python3",
      "display_name": "Python 3"
    },
    "language_info": {
      "name": "python"
    }
  },
  "cells": [
    {
      "cell_type": "markdown",
      "metadata": {
        "id": "view-in-github",
        "colab_type": "text"
      },
      "source": [
        "<a href=\"https://colab.research.google.com/github/Jashkine/RAG_Pipeline/blob/main/Workbook_Module_4_Exercises.ipynb\" target=\"_parent\"><img src=\"https://colab.research.google.com/assets/colab-badge.svg\" alt=\"Open In Colab\"/></a>"
      ]
    },
    {
      "cell_type": "markdown",
      "source": [
        "# Module 4: Flow Routing in RAG - Database or Prompt Routing\n",
        "\n",
        "\n",
        "# 1. Flow Routing in RAG: Database or Prompt Routing\n",
        "\n",
        "### What is Flow Routing in RAG?\n",
        "\n",
        "![](https://i.ibb.co/gdxRvYV/Screenshot-2024-11-02-at-20-09-34.png)\n",
        "\n",
        "Flow routing in Retrieval-Augmented Generation (RAG) helps direct queries to specific indexes or prompts based on the nature of the query. The primary types of routing are:\n",
        "\n",
        "1. **Prompt Routing**: Directs a query to different prompts based on the intent or topic.\n",
        "2. **Database Routing**: Directs a query to different subsets or indexes in a database based on the category or type of information required.\n",
        "\n",
        "Using flow routing optimizes retrieval pathways, especially useful for large, diverse databases or complex user queries.\n",
        "\n",
        "---\n"
      ],
      "metadata": {
        "id": "wPSgmuX1O0Gu"
      }
    },
    {
      "cell_type": "code",
      "execution_count": null,
      "metadata": {
        "id": "C_g86s5yOzVC"
      },
      "outputs": [],
      "source": [
        "# Import necessary libraries and ensure proper installations\n",
        "!pip install openai pinecone-client\n",
        "\n",
        "import openai\n",
        "import pinecone\n",
        "import json\n",
        "\n",
        "# Set up OpenAI API key (insert your actual API key here)\n",
        "openai_client = openai.Client(api_key=\"YOUR_OPENAI_API_KEY\")"
      ]
    },
    {
      "cell_type": "markdown",
      "source": [
        "# 2. Implementation of Prompt Routing\n",
        "\n",
        "In this section, we’ll implement prompt routing for different intents of user queries.\n",
        "\n",
        "### How Prompt Routing Works:\n",
        "- A classifier or intent recognizer analyzes the user query.\n",
        "- Based on the identified intent, a specific prompt structure or format is selected.\n",
        "- This selected prompt is then used to guide the RAG system in formulating responses.\n",
        "\n",
        "For this implementation, we'll create a basic intent classifier to determine whether a query is asking for factual information, an explanation, or general guidance.\n"
      ],
      "metadata": {
        "id": "GwpwBkiHO-cn"
      }
    },
    {
      "cell_type": "code",
      "source": [
        "# Step 1: Basic Intent Classifier\n",
        "def classify_intent(query):\n",
        "    \"\"\"\n",
        "    Classifies the intent of a query into 'factual', 'explanation', or 'guidance'.\n",
        "    \"\"\"\n",
        "    messages = [{\"role\": \"system\", \"content\": f\"\"}]\n",
        "    response = openai_client.chat.completions.create(\n",
        "        model=\"gpt-4o\",\n",
        "        messages=messages,\n",
        "        max_tokens=5\n",
        "    )\n",
        "    return response.choices[0].message.content.strip().lower()"
      ],
      "metadata": {
        "id": "AuXg4Md2O7uo"
      },
      "execution_count": null,
      "outputs": []
    },
    {
      "cell_type": "code",
      "source": [
        "# Step 2: Prompt Selection Based on Intent\n",
        "def generate_prompt(query, intent):\n",
        "    if intent == 'factual':\n",
        "        return f\"Provide a factual answer to the question: {query}\"\n",
        "    elif intent == 'explanation':\n",
        "        return f\"Explain in detail: {query}\"\n",
        "    elif intent == 'guidance':\n",
        "        return f\"Provide guidance for the following situation: {query}\"\n",
        "    else:\n",
        "        return f\"Answer the question: {query}\""
      ],
      "metadata": {
        "id": "OBo_oeZpPGf-"
      },
      "execution_count": null,
      "outputs": []
    },
    {
      "cell_type": "code",
      "source": [
        "# Step 3: RAG response using Prompt Routing\n",
        "def prompt_routing_rag(query):\n",
        "    # Classify the intent\n",
        "    intent = False\n",
        "    print(f\"Detected Intent: {intent}\")\n",
        "\n",
        "    # Generate appropriate prompt\n",
        "    prompt = False\n",
        "    print(f\"Generated Prompt: {prompt}\")\n",
        "\n",
        "    # Generate response based on prompt\n",
        "    response = openai_client.chat.completions.create(\n",
        "        model=\"gpt-4o\",\n",
        "        messages=[{\"role\": \"user\", \"content\": prompt}],\n",
        "        max_tokens=150\n",
        "    )\n",
        "    return response.choices[0].message.content"
      ],
      "metadata": {
        "id": "7f04VRZGPGdt"
      },
      "execution_count": null,
      "outputs": []
    },
    {
      "cell_type": "code",
      "source": [
        "# Example Query\n",
        "query = \"What is quantum entanglement?\"\n",
        "response = prompt_routing_rag(query)\n",
        "print(\"RAG Response:\", response)"
      ],
      "metadata": {
        "id": "2LWaEOCQPGbK"
      },
      "execution_count": null,
      "outputs": []
    },
    {
      "cell_type": "markdown",
      "source": [
        "# 3. Exercise: Database Routing with Multiple Indexes\n",
        "\n",
        "In this exercise, you’ll implement **database routing** by using different indexes in Pinecone. Different indexes allow for organized and efficient retrieval based on query types.\n",
        "\n",
        "![](https://i.ibb.co/G9xzXV2/Screenshot-2024-11-02-at-20-12-14.png)\n",
        "\n",
        "### Task\n",
        "\n",
        "1. **Create Different Indexes** in Pinecone (e.g., one for product data, another for research papers).\n",
        "2. **Route Queries** to a specific index based on their category (e.g., a query about a product is routed to the product index).\n",
        "3. **Combine Responses** from relevant indexes if needed.\n",
        "\n",
        "Use the following code as a starting template for your exercise.\n"
      ],
      "metadata": {
        "id": "mpRVULqGPbKd"
      }
    },
    {
      "cell_type": "code",
      "source": [
        "# Step 1: Basic Intent Classifier\n",
        "def classify_intent_db_route(query):\n",
        "    # TODO: Finish the system prompt that classifes query between 'product', 'finance', or 'tech', \"other\"\n",
        "    messages = [{\"role\": \"system\", \"content\": f\"\"}]\n",
        "    response = openai_client.chat.completions.create(\n",
        "        model=\"gpt-4o\",\n",
        "        messages=messages,\n",
        "        max_tokens=5\n",
        "    )\n",
        "    return response.choices[0].message.content.strip().lower()"
      ],
      "metadata": {
        "id": "JPUH7sxdPyvD"
      },
      "execution_count": null,
      "outputs": []
    },
    {
      "cell_type": "code",
      "source": [
        "product_db = None\n",
        "tech_db = None\n",
        "finance_db = None"
      ],
      "metadata": {
        "id": "3Vu8SkGwQHQO"
      },
      "execution_count": null,
      "outputs": []
    },
    {
      "cell_type": "code",
      "source": [
        "# Step 2: Prompt Selection Based on Intent\n",
        "def get_index(intent):\n",
        "    if intent == 'product':\n",
        "        return product_db\n",
        "    elif intent == 'fiance':\n",
        "        return tech_db\n",
        "    elif intent == 'tech':\n",
        "        return finance_db"
      ],
      "metadata": {
        "id": "mDnah_n9PajD"
      },
      "execution_count": null,
      "outputs": []
    },
    {
      "cell_type": "code",
      "source": [
        "# Step 2: Enhanced database routing RAG function\n",
        "def advanced_database_routing_rag(query):\n",
        "    # Route to the correct index\n",
        "    intent = False\n",
        "    index = False\n",
        "    if index:\n",
        "        # Generate embedding\n",
        "        query_embedding = openai_client.embeddings.create(\n",
        "            model=\"text-embedding-3-small\",\n",
        "            input=query\n",
        "        ).data[0].embedding\n",
        "\n",
        "        # Retrieve documents from the correct index\n",
        "        response = False\n",
        "        return \"\\n\\n\".join([match['metadata']['text'] for match in response['matches']])\n",
        "    else:\n",
        "        return None"
      ],
      "metadata": {
        "id": "2hU-lxEGPr-o"
      },
      "execution_count": null,
      "outputs": []
    },
    {
      "cell_type": "code",
      "source": [
        "system_prompt = {\n",
        "                    \"role\": \"system\",\n",
        "                    \"content\": f\"\"\"\n",
        "                    You are a helpfull E-Commerce assistant helping customers with their general questions regarding policies and procedures when buying in our store.\n",
        "                    Our store sells e-books and courses for IT professionals.\n",
        "                    \"\"\",\n",
        "                }\n",
        "\n",
        "def prompt_builder(system_message, context):\n",
        "  return system_message.format(context)"
      ],
      "metadata": {
        "id": "r0QAdi6pQ8UY"
      },
      "execution_count": null,
      "outputs": []
    },
    {
      "cell_type": "code",
      "source": [
        "# Step 3: Answer question\n",
        "def routing_rag(query):\n",
        "\n",
        "    context = advanced_database_routing_rag(query)\n",
        "\n",
        "    if context is None:\n",
        "      return \"Can't help you with that.\"\n",
        "\n",
        "    prompt = prompt_builder(system_prompt, context)\n",
        "\n",
        "    messages = [{\"role\": \"system\", \"content\": system_prompt},\n",
        "                {\"role\": \"user\", \"content\": query}]\n",
        "\n",
        "    response = openai_client.client.chat.completions.create(\n",
        "        model=\"gpt-4o\",\n",
        "        messages=messages,\n",
        "        max_tokens=1500,\n",
        "        temperature=0\n",
        "      )\n",
        "\n",
        "    response_content = response.choices[0].message.content\n",
        "\n",
        "    return response_content"
      ],
      "metadata": {
        "id": "_i01Ci-cQcsW"
      },
      "execution_count": null,
      "outputs": []
    },
    {
      "cell_type": "code",
      "source": [
        "# Test query\n",
        "query = \"Can you explain the latest research on quantum physics?\"\n",
        "retrieved_docs = advanced_database_routing_rag(query)\n",
        "print(\"Retrieved Documents:\", retrieved_docs)"
      ],
      "metadata": {
        "id": "VhLNSBEAPqFh"
      },
      "execution_count": null,
      "outputs": []
    },
    {
      "cell_type": "code",
      "source": [],
      "metadata": {
        "id": "RddmDctVa0tv"
      },
      "execution_count": null,
      "outputs": []
    },
    {
      "cell_type": "code",
      "source": [],
      "metadata": {
        "id": "E8GiDHvma0r2"
      },
      "execution_count": null,
      "outputs": []
    },
    {
      "cell_type": "code",
      "source": [
        "product_faq = {\n",
        "    \"What types of products do you offer?\": \"We offer a variety of e-books and online courses tailored for IT professionals.\",\n",
        "    \"Are your e-books downloadable?\": \"Yes, all our e-books are available for download immediately after purchase.\",\n",
        "    \"Do your courses have certifications?\": \"Yes, upon completion of our courses, you will receive a certificate of completion.\",\n",
        "    \"Are the courses live or pre-recorded?\": \"Our courses are pre-recorded, allowing you to learn at your own pace.\",\n",
        "    \"Can I preview a course before purchasing?\": \"Yes, each course page includes a preview section with sample videos and course material.\",\n",
        "    \"Are there any prerequisites for your courses?\": \"Each course description includes any prerequisites needed, if applicable.\",\n",
        "    \"How long do I have access to a course after purchasing?\": \"Once purchased, you have lifetime access to the course material.\",\n",
        "    \"Can I access my e-books and courses on multiple devices?\": \"Yes, you can access your purchases on any device with internet access.\",\n",
        "    \"Are the courses beginner-friendly?\": \"Yes, we offer courses for all levels, from beginners to advanced professionals.\",\n",
        "    \"What if a course I want is out of stock?\": \"Digital courses do not run out of stock, so you can purchase anytime.\",\n",
        "    \"Do you have any group discounts for teams?\": \"Yes, we offer group rates for teams. Please contact support for more details.\",\n",
        "    \"Can I gift a course or e-book to someone else?\": \"Currently, our system doesn’t support gifting, but you may share your purchased, if allowed.\",\n",
        "    \"Are there any free courses or e-books?\": \"Yes, we offer a selection of free resources on our website.\",\n",
        "    \"Can I download course videos for offline use?\": \"Currently, courses are available only for online streaming.\",\n",
        "    \"Is there a limit to the number of e-books I can download?\": \"No, once purchased, you can download your e-books as many times as needed.\",\n",
        "    \"Do courses have subtitles or closed captions?\": \"Yes, most of our courses include subtitles in multiple languages.\",\n",
        "    \"Is there a way to contact the course instructor?\": \"Some courses offer a discussion forum or Q&A section for this purpose.\",\n",
        "    \"How often do you update your course material?\": \"We regularly update course materials to ensure they reflect the latest industry standards.\",\n",
        "    \"Can I suggest a new course topic?\": \"Yes, we welcome suggestions. Feel free to reach out through our contact form.\",\n",
        "}\n"
      ],
      "metadata": {
        "id": "Ddnnim7Va0pl"
      },
      "execution_count": null,
      "outputs": []
    },
    {
      "cell_type": "code",
      "source": [
        "finance_faq = {\n",
        "    \"What payment methods do you accept?\": \"We accept all major credit cards, PayPal, and Apple Pay.\",\n",
        "    \"Is there a money-back guarantee on courses?\": \"Yes, we offer a 30-day money-back guarantee on all courses.\",\n",
        "    \"Do I get a receipt for my purchase?\": \"Yes, you will receive a digital receipt by email immediately after purchase.\",\n",
        "    \"Are there any hidden fees?\": \"No, there are no hidden fees. All costs are outlined at checkout.\",\n",
        "    \"Can I pay in installments?\": \"For some courses, we offer installment plans. Details are available on the course page.\",\n",
        "    \"Do you offer student discounts?\": \"Yes, students can apply for a discount. Contact support for more information.\",\n",
        "    \"Is there a refund policy for e-books?\": \"E-books are non-refundable once downloaded, as they are digital products.\",\n",
        "    \"Will I be charged any taxes on my purchase?\": \"Taxes are applied based on local regulations, and will be shown at checkout.\",\n",
        "    \"Can I use multiple discounts on one purchase?\": \"Only one discount code can be applied per transaction.\",\n",
        "    \"Is my payment information secure?\": \"Yes, we use secure, encrypted payment processing to protect your data.\",\n",
        "    \"How do I apply a discount code?\": \"Enter the discount code at checkout in the designated field.\",\n",
        "    \"Are your courses tax-deductible as a business expense?\": \"Depending on your location and business, courses may be deductible. Consult a tax advisor.\",\n",
        "    \"Can I pay by bank transfer?\": \"Currently, we only accept online payments via credit cards, PayPal, and Apple Pay.\",\n",
        "    \"Why was my payment declined?\": \"Please ensure your card details are correct or contact your bank for assistance.\",\n",
        "    \"Do you provide invoices for purchases?\": \"Yes, you can download an invoice from your account dashboard after purchase.\",\n",
        "    \"Is there a charge for currency conversion?\": \"Currency conversion fees may apply depending on your bank’s policies.\",\n",
        "    \"What should I do if I’m double-charged?\": \"Please contact our support team with proof, and we will assist you.\",\n",
        "    \"Are there any exchange rates applied on payments?\": \"Payments are processed in USD, and your bank may apply exchange rates if using another currency.\",\n",
        "    \"How can I cancel my order?\": \"For downloadable items like e-books and courses, cancellations are only possible before downloading.\",\n",
        "}\n"
      ],
      "metadata": {
        "id": "pka_c7YNa0na"
      },
      "execution_count": null,
      "outputs": []
    },
    {
      "cell_type": "code",
      "source": [
        "tech_faq = {\n",
        "    \"I’m having trouble accessing my course. What should I do?\": \"Ensure you’re logged in and have a stable internet connection. Contact support if issues persist.\",\n",
        "    \"What devices are compatible with your platform?\": \"Our platform works on most devices, including desktops, laptops, tablets, and smartphones.\",\n",
        "    \"Why is my video not playing?\": \"Try refreshing your browser or clearing your cache. If the problem continues, contact tech support.\",\n",
        "    \"Is there a mobile app for accessing courses?\": \"Currently, our platform is accessible via web browser but does not have a dedicated app.\",\n",
        "    \"What browsers are recommended for the best experience?\": \"We recommend using the latest versions of Chrome, Firefox, or Safari.\",\n",
        "    \"How can I reset my password?\": \"Use the 'Forgot Password' link on the login page to reset your password.\",\n",
        "    \"Why is my download not starting?\": \"Check your internet connection and try again. If the issue persists, contact support.\",\n",
        "    \"Can I access courses on multiple devices?\": \"Yes, you can access your account and courses on multiple devices.\",\n",
        "    \"Why is my e-book not opening on my device?\": \"Ensure you have a compatible e-reader or app. Contact support if the issue continues.\",\n",
        "    \"How do I change my account email?\": \"Go to 'Account Settings' to update your email.\",\n",
        "    \"What should I do if I encounter a bug?\": \"Report any issues through our support portal, and our team will investigate.\",\n",
        "    \"Are course videos available in HD?\": \"Yes, all videos are available in HD quality. You can adjust video quality as needed.\",\n",
        "    \"Why am I logged out unexpectedly?\": \"This could be due to security protocols. Ensure your session is active and re-login if needed.\",\n",
        "    \"How can I download my e-books for offline use?\": \"Once purchased, e-books are available for download through your account.\",\n",
        "    \"Can I speed up or slow down course videos?\": \"Yes, you can control playback speed through the video player settings.\",\n",
        "    \"Why isn’t my certificate downloading?\": \"Check your browser’s settings to allow downloads. Contact support if issues persist.\",\n",
        "    \"How can I enable subtitles in a video?\": \"Use the 'CC' button on the video player to enable subtitles if available.\",\n",
        "    \"Do I need a specific software to view the e-books?\": \"Our e-books are in PDF format, so any PDF viewer should work.\",\n",
        "    \"I’m experiencing audio issues. What should I do?\": \"Check your device’s audio settings and ensure the video player volume is not muted.\",\n",
        "}\n"
      ],
      "metadata": {
        "id": "m9L2cWlta0lI"
      },
      "execution_count": null,
      "outputs": []
    }
  ]
}