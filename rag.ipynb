!pip install -U langchain langchain-community faiss-cpu sentence-transformers
from langchain.llms import HuggingFacePipeline
from langchain.vectorstores import FAISS
from langchain.embeddings import HuggingFaceEmbeddings
from langchain.chains import RetrievalQA

# Sample documents (in practice, use a larger, verified corpus)
documents = ["The Eiffel Tower was built from 1887 to 1889 by Gustave Eiffel's company."]
embeddings = HuggingFaceEmbeddings(model_name="sentence-transformers/all-MiniLM-L6-v2")
vectorstore = FAISS.from_texts(documents, embeddings)
llm = HuggingFacePipeline.from_model_id(model_id="gpt2", task="text-generation")

qa_chain = RetrievalQA.from_chain_type(llm=llm, chain_type="stuff", retriever=vectorstore.as_retriever())
query = "When was the Eiffel Tower built?"
response = qa_chain.run(query)
print(response)  # Should reference 1887–1889
